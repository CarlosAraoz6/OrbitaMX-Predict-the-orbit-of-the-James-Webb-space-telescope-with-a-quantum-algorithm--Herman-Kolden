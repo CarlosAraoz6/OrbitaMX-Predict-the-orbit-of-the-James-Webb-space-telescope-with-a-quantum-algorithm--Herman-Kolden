{
 "cells": [
  {
   "cell_type": "markdown",
   "id": "e979f429-f81f-4269-b958-143375724be3",
   "metadata": {},
   "source": [
    "Task 2: Input encoding"
   ]
  },
  {
   "cell_type": "code",
   "execution_count": 1,
   "id": "3551652f-eacc-414b-ae07-370c870145bb",
   "metadata": {},
   "outputs": [
    {
     "name": "stderr",
     "output_type": "stream",
     "text": [
      "<frozen importlib._bootstrap>:219: RuntimeWarning: scipy._lib.messagestream.MessageStream size changed, may indicate binary incompatibility. Expected 56 from C header, got 64 from PyObject\n"
     ]
    }
   ],
   "source": [
    "import numpy as np\n",
    "from qiskit.algorithms.linear_solvers.numpy_linear_solver import NumPyLinearSolver"
   ]
  },
  {
   "cell_type": "markdown",
   "id": "b0fbba1f-f62e-4fa9-854f-6598559fb3d3",
   "metadata": {},
   "source": [
    "Make a quantum circuit that prepares the input state"
   ]
  },
  {
   "cell_type": "code",
   "execution_count": 2,
   "id": "9a272415-aa46-49af-9e3b-32e651b3088f",
   "metadata": {},
   "outputs": [],
   "source": [
    "#\n",
    "# Function that randomly pick a 2 dimentional state to simulate position of satellite\n",
    "#\n",
    "\n",
    "from random import randrange\n",
    "def random_quantum_state():\n",
    "    # quantum state \n",
    "    quantum_state=[0,0]\n",
    "    random_number1 = randrange(-100,101)\n",
    "    #print(\"the first number is\",random_number1)\n",
    "    random_number2 = randrange(-100,101)\n",
    "    #print(\"the second number is\",random_number2)\n",
    "    #probability=random_number1**2+random_number2**2\n",
    "   # print(\"probability is\",probability)\n",
    "    #amplitude1=random_number1/(probability**0.5)\n",
    "   # print(\"amplitude 1 is\",amplitude1)\n",
    "    #amplitude2=random_number2/(probability**0.5)\n",
    "   # print(\"amplitude 2 is\",amplitude2)\n",
    "    quantum_state[0]=random_number1\n",
    "    quantum_state[1]=random_number2\n",
    "    #sum=amplitude1**2+amplitude2**2\n",
    "    #print(\"sum=\",sum)\n",
    "    return quantum_state"
   ]
  },
  {
   "cell_type": "markdown",
   "id": "8dd85300-c715-4560-aa2c-79cdc70aee03",
   "metadata": {},
   "source": [
    "We make a function that normalizes the state we made in the function above"
   ]
  },
  {
   "cell_type": "code",
   "execution_count": 3,
   "id": "619441f9-2ee7-4205-8a6a-ce7654cd5876",
   "metadata": {},
   "outputs": [],
   "source": [
    "#\n",
    "# Function that normalizes a 2 dimentional state to simulate quantum state of the position of satellite\n",
    "#\n",
    "def normal_quantum_state(quantum_state):\n",
    "    probability=quantum_state[0]**2+quantum_state[1]**2\n",
    "    amplitude1=quantum_state[0]/(probability**0.5)\n",
    "    amplitude2=quantum_state[1]/(probability**0.5)\n",
    "    quantum_state[0]=amplitude1\n",
    "    quantum_state[1]=amplitude2\n",
    "    return quantum_state"
   ]
  },
  {
   "cell_type": "markdown",
   "id": "20e58cdc-8a5f-4ece-8b84-779ab298dd86",
   "metadata": {},
   "source": [
    "We can make sure our functions work propertly with the following 2 cells."
   ]
  },
  {
   "cell_type": "code",
   "execution_count": 4,
   "id": "0eff7827-a6eb-47ab-9368-9430c4bb4fdb",
   "metadata": {},
   "outputs": [
    {
     "data": {
      "text/plain": [
       "[38, -85]"
      ]
     },
     "execution_count": 4,
     "metadata": {},
     "output_type": "execute_result"
    }
   ],
   "source": [
    "#\n",
    "# check randomly pick function\n",
    "#\n",
    "rs = random_quantum_state()\n",
    "rs"
   ]
  },
  {
   "cell_type": "code",
   "execution_count": 5,
   "id": "5eb39f7e-6d23-4cf8-befd-621f4491d609",
   "metadata": {},
   "outputs": [
    {
     "data": {
      "text/plain": [
       "[0.4081305412501237, -0.9129235791121187]"
      ]
     },
     "execution_count": 5,
     "metadata": {},
     "output_type": "execute_result"
    }
   ],
   "source": [
    "#check function that normilizes the state\n",
    "n_quantum_state = normal_quantum_state(rs)\n",
    "n_quantum_state "
   ]
  },
  {
   "cell_type": "markdown",
   "id": "747795dc-7e77-4ede-86d5-9ce17606ff77",
   "metadata": {},
   "source": [
    "We define a fucntion that checks whether the picked quantum state is valid"
   ]
  },
  {
   "cell_type": "code",
   "execution_count": 6,
   "id": "c1f819a7-dc0e-413e-8cc1-d0a3e03e656b",
   "metadata": {},
   "outputs": [],
   "source": [
    "# Function that checks whether the picked quantum state is valid\n",
    "from random import randrange\n",
    "def check_random_quantum_state(quantum_state):\n",
    "    value=0\n",
    "    for i in range(len(quantum_state)):\n",
    "        value+=quantum_state[i]**2\n",
    "    if (value - 1)**2 < 0.00000001: \n",
    "        return True\n",
    "    else:\n",
    "        return False"
   ]
  },
  {
   "cell_type": "markdown",
   "id": "463f8f05-809b-4a81-a45d-e3f783fc6ae1",
   "metadata": {},
   "source": [
    "We can make sure our function work propertly with the following cell"
   ]
  },
  {
   "cell_type": "code",
   "execution_count": 7,
   "id": "dfdb07e4-e1f4-4074-b2e3-5a1be5384dd5",
   "metadata": {},
   "outputs": [
    {
     "data": {
      "text/plain": [
       "True"
      ]
     },
     "execution_count": 7,
     "metadata": {},
     "output_type": "execute_result"
    }
   ],
   "source": [
    "#\n",
    "# check function that states if the quantum state is valid\n",
    "#\n",
    "check_random_quantum_state(n_quantum_state)"
   ]
  },
  {
   "cell_type": "markdown",
   "id": "77b30c73-e9dd-42d8-966e-4d1f66d3d0b0",
   "metadata": {},
   "source": [
    "Finally we make a quantum circuit that prepares the input state, here we cosnider 10 satellites."
   ]
  },
  {
   "cell_type": "code",
   "execution_count": 8,
   "id": "a2ce9a46-ae77-4104-a354-7125dda04259",
   "metadata": {},
   "outputs": [
    {
     "name": "stdout",
     "output_type": "stream",
     "text": [
      "[0.9449860734402582, 0.3271105638831663] this is randomly picked quantum state for satellite 0\n",
      "Is it valid? True\n",
      "\n",
      "[0.8372705045624257, -0.546788900938727] this is randomly picked quantum state for satellite 1\n",
      "Is it valid? True\n",
      "\n",
      "[-0.5985256885300932, 0.8011036138787402] this is randomly picked quantum state for satellite 2\n",
      "Is it valid? True\n",
      "\n",
      "[-0.9496887635303413, -0.3131952305259636] this is randomly picked quantum state for satellite 3\n",
      "Is it valid? True\n",
      "\n",
      "[-0.696785684263249, 0.7172793808592269] this is randomly picked quantum state for satellite 4\n",
      "Is it valid? True\n",
      "\n",
      "[0.7022134834058589, 0.7119664484531625] this is randomly picked quantum state for satellite 5\n",
      "Is it valid? True\n",
      "\n",
      "[-0.973417168333576, -0.2290393337255473] this is randomly picked quantum state for satellite 6\n",
      "Is it valid? True\n",
      "\n",
      "[-0.4948386187009886, -0.8689848913773458] this is randomly picked quantum state for satellite 7\n",
      "Is it valid? True\n",
      "\n",
      "[-0.9989685402102997, 0.045407660918649985] this is randomly picked quantum state for satellite 8\n",
      "Is it valid? True\n",
      "\n",
      "[0.7196931822512745, 0.6942922464071118] this is randomly picked quantum state for satellite 9\n",
      "Is it valid? True\n",
      "\n",
      "The imput quantum state for the 10 satellites is given by the following state\n",
      "\n",
      "x= [0.9449860734402582, 0.3271105638831663, 0.8372705045624257, -0.546788900938727, -0.5985256885300932, 0.8011036138787402, -0.9496887635303413, -0.3131952305259636, -0.696785684263249, 0.7172793808592269, 0.7022134834058589, 0.7119664484531625, -0.973417168333576, -0.2290393337255473, -0.4948386187009886, -0.8689848913773458, -0.9989685402102997, 0.045407660918649985, 0.7196931822512745, 0.6942922464071118]\n"
     ]
    }
   ],
   "source": [
    "#Function to prepare the quantum state of N satellites\n",
    "quantum_satellites=[] #this will be our quantum state for the N satellites\n",
    "N=10 #Number of satellites\n",
    "for i in range(N):\n",
    "    picked_quantum_state=random_quantum_state() #call function that randomly pick a 2 dimentional state to simulate position of satellite\n",
    "    n_state = normal_quantum_state(picked_quantum_state)  # Function that normalizes a 2 dimentional state to simulate quantum state of the position of satellite\n",
    "    print(n_state,\"this is randomly picked quantum state for satellite\",i)\n",
    "    print(\"Is it valid?\",check_random_quantum_state(n_state)) #check if it is a valid quantum state\n",
    "    if check_random_quantum_state(n_state)==True: #if it is a quantum valid quantum state then save it to our quantum state for N satellites\n",
    "        x= n_state[0]  #define x component\n",
    "        y = n_state[1]  #define y component\n",
    "        quantum_satellites.append(x)  #save x position of satellite on our quantum state\n",
    "        quantum_satellites.append(y)   #save y position of satellite on our quantum state\n",
    "    print() # print an empty line\n",
    "print(\"The imput quantum state for the\",N,\"satellites is given by the following state\")\n",
    "print()\n",
    "print(\"x=\",quantum_satellites)  #print the quantum state for the N satellites\n",
    "\n",
    "    "
   ]
  },
  {
   "cell_type": "markdown",
   "id": "f6824569-fe85-4e11-88c8-6d5fe2e4d691",
   "metadata": {},
   "source": [
    "We see that our quantum state can make a quantum circuit that prepares the input state for N satellites. We choose that it made smaller quantum states in each itaration, rather than performing the measurment of positions of the N satellites and then preparing the quantum state, the introduction of another for cicle would increase the complexity of the system. "
   ]
  },
  {
   "cell_type": "code",
   "execution_count": null,
   "id": "1d6e9340-443e-4957-98c8-d244692edc69",
   "metadata": {},
   "outputs": [],
   "source": []
  }
 ],
 "metadata": {
  "kernelspec": {
   "display_name": "Python 3 (ipykernel)",
   "language": "python",
   "name": "python3"
  },
  "language_info": {
   "codemirror_mode": {
    "name": "ipython",
    "version": 3
   },
   "file_extension": ".py",
   "mimetype": "text/x-python",
   "name": "python",
   "nbconvert_exporter": "python",
   "pygments_lexer": "ipython3",
   "version": "3.8.13"
  },
  "widgets": {
   "application/vnd.jupyter.widget-state+json": {
    "state": {},
    "version_major": 2,
    "version_minor": 0
   }
  }
 },
 "nbformat": 4,
 "nbformat_minor": 5
}
